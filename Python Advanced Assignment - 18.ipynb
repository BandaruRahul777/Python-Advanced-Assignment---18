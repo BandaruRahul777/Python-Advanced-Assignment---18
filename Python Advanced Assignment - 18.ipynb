{
 "cells": [
  {
   "cell_type": "code",
   "execution_count": null,
   "id": "fc45ba97",
   "metadata": {},
   "outputs": [],
   "source": [
    "Question 1"
   ]
  },
  {
   "cell_type": "code",
   "execution_count": null,
   "id": "7b291ae5",
   "metadata": {},
   "outputs": [],
   "source": [
    "The differences between Text Files and Binary Files are:\n",
    "\n",
    "Text files are special subset of binary files that are used to store human readable characters as a rich text document or plain\n",
    "text document. Text files also store data in sequential bytes but bits in text file represents characters.\n",
    "\n",
    "Binary files are those typical files that store data in the form of sequence of bytes grouped into eight bits or sometimes\n",
    "sixteen bits. These bits represent custom data and such files can store multiple types of data (images, audio, text, etc)\n",
    "under a single file."
   ]
  },
  {
   "cell_type": "code",
   "execution_count": null,
   "id": "d47f54e9",
   "metadata": {},
   "outputs": [],
   "source": [
    "Question 2"
   ]
  },
  {
   "cell_type": "code",
   "execution_count": null,
   "id": "61c640b8",
   "metadata": {},
   "outputs": [],
   "source": [
    "Text files are less prone to get corrupted as any undesired change may just show up once the file is opened and then can easily\n",
    "be removed. Whereas Use binary files instead of text files for image data."
   ]
  },
  {
   "cell_type": "code",
   "execution_count": null,
   "id": "579903bb",
   "metadata": {},
   "outputs": [],
   "source": [
    "Question 3"
   ]
  },
  {
   "cell_type": "code",
   "execution_count": null,
   "id": "9c80e969",
   "metadata": {},
   "outputs": [],
   "source": [
    "When we read or write a python integer using binary operations\n",
    "\n",
    "Binary operations deal with raw data\n",
    "One needs to identify how many bytes one would read or write."
   ]
  },
  {
   "cell_type": "code",
   "execution_count": null,
   "id": "72a3f60f",
   "metadata": {},
   "outputs": [],
   "source": [
    "Question 4"
   ]
  },
  {
   "cell_type": "code",
   "execution_count": null,
   "id": "934b803d",
   "metadata": {},
   "outputs": [],
   "source": [
    "When a file is opened using the with keyword, if some exceptions occur after opening a file, or at the end of the file it\n",
    "automatically does the closing of the file. There by not leaving an file in open mode and there would no need to explicitly\n",
    "close a file."
   ]
  },
  {
   "cell_type": "code",
   "execution_count": null,
   "id": "32f2bafd",
   "metadata": {},
   "outputs": [],
   "source": [
    "Question 5"
   ]
  },
  {
   "cell_type": "code",
   "execution_count": null,
   "id": "09bb7bfc",
   "metadata": {},
   "outputs": [],
   "source": [
    "Yes, Python have the trailing newline while reading a line of text. When we write a newline has to be provided in python\n",
    "excpicitly."
   ]
  },
  {
   "cell_type": "code",
   "execution_count": null,
   "id": "51e59070",
   "metadata": {},
   "outputs": [],
   "source": [
    "Question 6"
   ]
  },
  {
   "cell_type": "code",
   "execution_count": null,
   "id": "fc1f35e1",
   "metadata": {},
   "outputs": [],
   "source": [
    "The file operations enable for random-access operation are seek() and tell()"
   ]
  },
  {
   "cell_type": "code",
   "execution_count": null,
   "id": "a704f40a",
   "metadata": {},
   "outputs": [],
   "source": [
    "Question 7"
   ]
  },
  {
   "cell_type": "code",
   "execution_count": null,
   "id": "be7b76c0",
   "metadata": {},
   "outputs": [],
   "source": [
    "The struct package is mostly used while converting a common python types into C language types."
   ]
  },
  {
   "cell_type": "code",
   "execution_count": null,
   "id": "d2d340de",
   "metadata": {},
   "outputs": [],
   "source": [
    "Question 8"
   ]
  },
  {
   "cell_type": "code",
   "execution_count": null,
   "id": "5f64f769",
   "metadata": {},
   "outputs": [],
   "source": [
    "Pickling is best option for creating a new binary file using python."
   ]
  },
  {
   "cell_type": "code",
   "execution_count": null,
   "id": "1d64e46e",
   "metadata": {},
   "outputs": [],
   "source": [
    "Question 9"
   ]
  },
  {
   "cell_type": "code",
   "execution_count": null,
   "id": "3c045ac8",
   "metadata": {},
   "outputs": [],
   "source": [
    "Shelve package is used to pickle data but treats the entire file as dictionary."
   ]
  },
  {
   "cell_type": "code",
   "execution_count": null,
   "id": "dba20cc1",
   "metadata": {},
   "outputs": [],
   "source": [
    "Question 10"
   ]
  },
  {
   "cell_type": "code",
   "execution_count": null,
   "id": "2aa42d4f",
   "metadata": {},
   "outputs": [],
   "source": [
    "Only string data type can be used as key in this special dictionary object, whereas any picklable Python object can be used as\n",
    "value."
   ]
  }
 ],
 "metadata": {
  "kernelspec": {
   "display_name": "Python 3 (ipykernel)",
   "language": "python",
   "name": "python3"
  },
  "language_info": {
   "codemirror_mode": {
    "name": "ipython",
    "version": 3
   },
   "file_extension": ".py",
   "mimetype": "text/x-python",
   "name": "python",
   "nbconvert_exporter": "python",
   "pygments_lexer": "ipython3",
   "version": "3.9.7"
  }
 },
 "nbformat": 4,
 "nbformat_minor": 5
}
